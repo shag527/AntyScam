{
 "cells": [
  {
   "cell_type": "code",
   "execution_count": 71,
   "metadata": {},
   "outputs": [],
   "source": [
    "# Loading Dependencies\n",
    "import os\n",
    "import io\n",
    "import numpy\n",
    "from pandas import DataFrame\n",
    "from sklearn.feature_extraction.text import CountVectorizer\n",
    "from sklearn.naive_bayes import MultinomialNB\n",
    "from sklearn.model_selection import train_test_split\n",
    "from sklearn.metrics import accuracy_score"
   ]
  },
  {
   "cell_type": "code",
   "execution_count": 6,
   "metadata": {},
   "outputs": [],
   "source": [
    "def read_files(path):\n",
    "    for root, dirnames, filenames in os.walk(path):\n",
    "        for filename in filenames:\n",
    "            path=os.path.join(root,filename)\n",
    "            flag=False\n",
    "            lines=[]\n",
    "            f=io.open(path,'r',encoding='latin1')\n",
    "            for line in f:\n",
    "                if flag:\n",
    "                    lines.append(line)\n",
    "                elif line=='\\n':\n",
    "                    flag=True\n",
    "            f.close()\n",
    "            message='\\n'.join(lines)\n",
    "            yield path, message"
   ]
  },
  {
   "cell_type": "code",
   "execution_count": 3,
   "metadata": {},
   "outputs": [],
   "source": [
    "def Create_dataframe(path,classify):\n",
    "    rows=[]\n",
    "    index=[]\n",
    "    for filename, message in read_files(path):\n",
    "        rows.append({'message':message,'class':classify})\n",
    "        index.append(filename)\n",
    "    return DataFrame(rows,index=index)"
   ]
  },
  {
   "cell_type": "code",
   "execution_count": 7,
   "metadata": {},
   "outputs": [],
   "source": [
    "data=DataFrame({'message':[],'class':[]})\n",
    "\n",
    "data=data.append(Create_dataframe('emails/spam','spam'))\n",
    "data=data.append(Create_dataframe('emails/ham','ham'))"
   ]
  },
  {
   "cell_type": "code",
   "execution_count": 63,
   "metadata": {},
   "outputs": [
    {
     "data": {
      "text/html": [
       "<div>\n",
       "<style scoped>\n",
       "    .dataframe tbody tr th:only-of-type {\n",
       "        vertical-align: middle;\n",
       "    }\n",
       "\n",
       "    .dataframe tbody tr th {\n",
       "        vertical-align: top;\n",
       "    }\n",
       "\n",
       "    .dataframe thead th {\n",
       "        text-align: right;\n",
       "    }\n",
       "</style>\n",
       "<table border=\"1\" class=\"dataframe\">\n",
       "  <thead>\n",
       "    <tr style=\"text-align: right;\">\n",
       "      <th></th>\n",
       "      <th>message</th>\n",
       "      <th>class</th>\n",
       "    </tr>\n",
       "  </thead>\n",
       "  <tbody>\n",
       "    <tr>\n",
       "      <th>emails/spam/00385.51089b24dee5a89d38ee1b505b470c68</th>\n",
       "      <td>\\n\\n&lt;html&gt;\\n\\n&lt;body bgcolor=\"#FFFFFF\"&gt;\\n\\n&lt;TAB...</td>\n",
       "      <td>spam</td>\n",
       "    </tr>\n",
       "    <tr>\n",
       "      <th>emails/spam/00169.86721d6b50e889ed39c7d302adb2a5ab</th>\n",
       "      <td>How are you doing?\\n\\n\\n\\nIf you've been like ...</td>\n",
       "      <td>spam</td>\n",
       "    </tr>\n",
       "    <tr>\n",
       "      <th>emails/spam/00325.58d1a52f435030dc38568bc12a3d76a2</th>\n",
       "      <td>&lt;\u001b$B;v6H&lt;T\u001b(B&gt;\\n\\n\u001b$B;aL&gt;\u001b(B:Vip-mail\\n\\n\u001b$BFM...</td>\n",
       "      <td>spam</td>\n",
       "    </tr>\n",
       "    <tr>\n",
       "      <th>emails/spam/00135.00e388e3b23df6278a8845047ca25160</th>\n",
       "      <td>------=_NextPart_000_00E8_85C13B1D.B7243B86\\n\\...</td>\n",
       "      <td>spam</td>\n",
       "    </tr>\n",
       "    <tr>\n",
       "      <th>emails/spam/00231.77a5d20da55f185c1bb7a3949332d364</th>\n",
       "      <td>&lt;p&gt;We thank you for just a moment of your tim...</td>\n",
       "      <td>spam</td>\n",
       "    </tr>\n",
       "  </tbody>\n",
       "</table>\n",
       "</div>"
      ],
      "text/plain": [
       "                                                                                              message  \\\n",
       "emails/spam/00385.51089b24dee5a89d38ee1b505b470c68  \\n\\n<html>\\n\\n<body bgcolor=\"#FFFFFF\">\\n\\n<TAB...   \n",
       "emails/spam/00169.86721d6b50e889ed39c7d302adb2a5ab  How are you doing?\\n\\n\\n\\nIf you've been like ...   \n",
       "emails/spam/00325.58d1a52f435030dc38568bc12a3d76a2  <\u001b$B;v6H<T\u001b(B>\\n\\n\u001b$B;aL>\u001b(B:Vip-mail\\n\\n\u001b$BFM...   \n",
       "emails/spam/00135.00e388e3b23df6278a8845047ca25160  ------=_NextPart_000_00E8_85C13B1D.B7243B86\\n\\...   \n",
       "emails/spam/00231.77a5d20da55f185c1bb7a3949332d364   <p>We thank you for just a moment of your tim...   \n",
       "\n",
       "                                                   class  \n",
       "emails/spam/00385.51089b24dee5a89d38ee1b505b470c68  spam  \n",
       "emails/spam/00169.86721d6b50e889ed39c7d302adb2a5ab  spam  \n",
       "emails/spam/00325.58d1a52f435030dc38568bc12a3d76a2  spam  \n",
       "emails/spam/00135.00e388e3b23df6278a8845047ca25160  spam  \n",
       "emails/spam/00231.77a5d20da55f185c1bb7a3949332d364  spam  "
      ]
     },
     "execution_count": 63,
     "metadata": {},
     "output_type": "execute_result"
    }
   ],
   "source": [
    "data.head()"
   ]
  },
  {
   "cell_type": "code",
   "execution_count": 64,
   "metadata": {},
   "outputs": [],
   "source": [
    "x=data.iloc[:,0:1]\n",
    "y=data.iloc[:,-1]"
   ]
  },
  {
   "cell_type": "code",
   "execution_count": 65,
   "metadata": {},
   "outputs": [],
   "source": [
    "train_x,test_x,train_y,test_y=train_test_split(x,y,test_size=0.2)"
   ]
  },
  {
   "cell_type": "code",
   "execution_count": 66,
   "metadata": {},
   "outputs": [
    {
     "data": {
      "text/plain": [
       "array(['spam', 'ham', 'ham', ..., 'spam', 'ham', 'ham'], dtype=object)"
      ]
     },
     "execution_count": 66,
     "metadata": {},
     "output_type": "execute_result"
    }
   ],
   "source": [
    "train_y.values"
   ]
  },
  {
   "cell_type": "code",
   "execution_count": 67,
   "metadata": {},
   "outputs": [],
   "source": [
    "vect=CountVectorizer()\n",
    "counts=vect.fit_transform(train_x['message'].values)"
   ]
  },
  {
   "cell_type": "code",
   "execution_count": 68,
   "metadata": {},
   "outputs": [
    {
     "name": "stdout",
     "output_type": "stream",
     "text": [
      "(2400, 53100)\n",
      "(2400,)\n"
     ]
    }
   ],
   "source": [
    "print(counts.shape)\n",
    "print(train_y.shape)"
   ]
  },
  {
   "cell_type": "code",
   "execution_count": 69,
   "metadata": {},
   "outputs": [
    {
     "data": {
      "text/plain": [
       "MultinomialNB()"
      ]
     },
     "execution_count": 69,
     "metadata": {},
     "output_type": "execute_result"
    }
   ],
   "source": [
    "model=MultinomialNB()\n",
    "model.fit(counts,train_y.values)"
   ]
  },
  {
   "cell_type": "code",
   "execution_count": 70,
   "metadata": {},
   "outputs": [
    {
     "name": "stdout",
     "output_type": "stream",
     "text": [
      "(600, 53100)\n"
     ]
    }
   ],
   "source": [
    "test_counts=vect.transform(test_x['message'].values)\n",
    "print(test_counts.shape)\n",
    "\n",
    "y_pred=model.predict(test_counts)"
   ]
  },
  {
   "cell_type": "code",
   "execution_count": 73,
   "metadata": {},
   "outputs": [
    {
     "data": {
      "text/plain": [
       "0.9716666666666667"
      ]
     },
     "execution_count": 73,
     "metadata": {},
     "output_type": "execute_result"
    }
   ],
   "source": [
    "accuracy_score(y_pred,test_y)"
   ]
  },
  {
   "cell_type": "code",
   "execution_count": 74,
   "metadata": {},
   "outputs": [
    {
     "data": {
      "text/plain": [
       "array(['spam'], dtype='<U4')"
      ]
     },
     "execution_count": 74,
     "metadata": {},
     "output_type": "execute_result"
    }
   ],
   "source": [
    "ex=['Free Money!!']\n",
    "ex_counts=vect.transform(ex)\n",
    "model.predict(ex_counts)"
   ]
  },
  {
   "cell_type": "code",
   "execution_count": null,
   "metadata": {},
   "outputs": [],
   "source": []
  }
 ],
 "metadata": {
  "kernelspec": {
   "display_name": "Python 3",
   "language": "python",
   "name": "python3"
  },
  "language_info": {
   "codemirror_mode": {
    "name": "ipython",
    "version": 3
   },
   "file_extension": ".py",
   "mimetype": "text/x-python",
   "name": "python",
   "nbconvert_exporter": "python",
   "pygments_lexer": "ipython3",
   "version": "3.8.2"
  }
 },
 "nbformat": 4,
 "nbformat_minor": 4
}
